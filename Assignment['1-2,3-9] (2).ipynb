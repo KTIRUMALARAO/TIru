{
 "cells": [
  {
   "cell_type": "code",
   "execution_count": 13,
   "id": "85a5b053",
   "metadata": {},
   "outputs": [],
   "source": [
    "def string(s):\n",
    "    l=[]\n",
    "    for i in s.split(','):\n",
    "        for j in i.split('-'):\n",
    "            l.append(int(j))\n",
    "            \n",
    "    print(l)\n",
    "    \n",
    "    # Even and Odd list \n",
    "    even=[]\n",
    "    odd=[]\n",
    "    odd.append(l[0])\n",
    "    for i in range(1,len(l)):\n",
    "        \n",
    "        if i%2!=0:\n",
    "            even.append(l[i])\n",
    "        else:\n",
    "            odd.append(l[i])\n",
    "    print('even list is {}'.format(even))\n",
    "    print('odd list is {}'.format(odd))\n",
    "    \n",
    "    # Printing sequence of each pair\n",
    "    li=[]\n",
    "    for i in range(len(odd)):\n",
    "        if odd[i]==even[i]:\n",
    "            li.append(odd(i))\n",
    "        elif odd[i]<even[i] :\n",
    "            for j in range(odd[i],(even[i])+1):\n",
    "                li.append(j)\n",
    "        else :\n",
    "            for j in range(even[i],odd[i]+1):\n",
    "                li.append(j)\n",
    "#     print(li)\n",
    "#     print(min(li))\n",
    "#     print(max(li))\n",
    "    #printing Sorted sequence\n",
    "    a= [i for i in range(min(li),max(li)+1)]\n",
    "    print(\"sorted sequence is {}\".format(a))  "
   ]
  },
  {
   "cell_type": "code",
   "execution_count": 26,
   "id": "7387932b",
   "metadata": {},
   "outputs": [
    {
     "name": "stdout",
     "output_type": "stream",
     "text": [
      "['1', '4', '2', '3', '5', '5', '8', '9']\n"
     ]
    }
   ],
   "source": [
    "s='1-4,2-3,5-5,8-9'\n",
    "for i in s.split(','):\n",
    "    for j in i.split('-'):\n",
    "        l.append(j)\n",
    "print(l)"
   ]
  },
  {
   "cell_type": "code",
   "execution_count": 29,
   "id": "18733ce4",
   "metadata": {},
   "outputs": [
    {
     "name": "stdout",
     "output_type": "stream",
     "text": [
      "['1', '2', '5', '8']\n",
      "['4', '3', '5', '9']\n"
     ]
    }
   ],
   "source": [
    "even=[]\n",
    "odd=[]\n",
    "odd.append(l[0])\n",
    "for i in range(1,len(l)):\n",
    "    if i%2!=0:\n",
    "        even.append(l[i])\n",
    "    else:\n",
    "        odd.append(l[i])\n",
    "print(odd)\n",
    "print(even)\n"
   ]
  },
  {
   "cell_type": "code",
   "execution_count": null,
   "id": "23db7f23",
   "metadata": {},
   "outputs": [],
   "source": [
    "\n"
   ]
  },
  {
   "cell_type": "code",
   "execution_count": 42,
   "id": "cee98bc4",
   "metadata": {},
   "outputs": [
    {
     "name": "stdout",
     "output_type": "stream",
     "text": [
      "[1, 2, 3, 4, 2, 3, 5, 1, 2, 3, 4, 5, 6, 7, 8, 9]\n"
     ]
    }
   ],
   "source": [
    "a=['1', '2', '5', '1']\n",
    "b=['4', '3', '5', '9']\n",
    "p=[]\n",
    "for i in range(len(a)):\n",
    "    if a[i] == b[i]:\n",
    "        p.append(int(a[i]))\n",
    "    elif a[i]<b[i]:\n",
    "        for j in range(int(a[i]),int(b[i])+1):\n",
    "            p.append(j)\n",
    "    elif a[i]>b[i]:\n",
    "        for k in range(int(b[i]),int(a[i])+1):\n",
    "            p.append(k)\n",
    "    else:\n",
    "        pass\n",
    "\n",
    "            \n",
    "print(p)"
   ]
  },
  {
   "cell_type": "code",
   "execution_count": 54,
   "id": "9887f87b",
   "metadata": {},
   "outputs": [
    {
     "name": "stdout",
     "output_type": "stream",
     "text": [
      "[1, 2, 3, 4, 5, 8, 9, 10]\n"
     ]
    }
   ],
   "source": [
    "a=[]\n",
    "a1=['1', '2', '5', '8']\n",
    "for i in a1:\n",
    "    a.append(int(i))\n",
    "b=[]\n",
    "b1=['4', '3', '5', '10']\n",
    "for i in b1:\n",
    "    b.append(int(i))\n",
    "\n",
    "p=[]\n",
    "for i in range(len(a)):\n",
    "    if a[i] == b[i]:\n",
    "        p.append(int(a[i]))\n",
    "    elif a[i]<b[i]:\n",
    "        for j in range(int(a[i]),int(b[i])+1):\n",
    "            p.append(j)\n",
    "    elif a[i]>b[i]:\n",
    "        for k in range(int(b[i]),int(a[i])+1):\n",
    "            p.append(k)\n",
    "    else:\n",
    "        pass\n",
    "\n",
    "\n",
    "p=set(p)\n",
    "p=list(p)\n",
    "print(p)"
   ]
  },
  {
   "cell_type": "code",
   "execution_count": 58,
   "id": "964e9d39",
   "metadata": {},
   "outputs": [
    {
     "name": "stdout",
     "output_type": "stream",
     "text": [
      "['1', '4', '2', '3', '5', '5', '8', '9', '1', '4', '2', '3', '5', '5', '8', '9', '1', '4', '2', '3', '5', '5', '8', '9', '1', '4', '2', '3', '5', '5', '8', '9', '1', '4', '2', '3', '5', '5', '8', '90']\n",
      "['1', '2', '5', '8', '1', '2', '5', '8', '1', '2', '5', '8', '1', '2', '5', '8', '1', '2', '5', '8']\n",
      "['4', '3', '5', '9', '4', '3', '5', '9', '4', '3', '5', '9', '4', '3', '5', '9', '4', '3', '5', '90']\n",
      "[1, 2, 3, 4, 5, 8, 9, 10]\n"
     ]
    }
   ],
   "source": [
    "s='1-4,2-3,5-5,8-90'\n",
    "for i in s.split(','):\n",
    "    for j in i.split('-'):\n",
    "        l.append(j)\n",
    "print(l)\n",
    "\n",
    "# Partions like Even and Odd\n",
    "even=[]\n",
    "odd=[]\n",
    "odd.append(l[0])\n",
    "for i in range(1,len(l)):\n",
    "    if i%2!=0:\n",
    "        even.append(l[i])\n",
    "    else:\n",
    "        odd.append(l[i])\n",
    "print(odd)\n",
    "print(even)\n",
    "\n",
    "#Converting str(item) to list(item)\n",
    "a=[]\n",
    "a1=['1', '2', '5', '8']\n",
    "for i in a1:\n",
    "    a.append(int(i))\n",
    "b=[]\n",
    "b1=['4', '3', '5', '10']\n",
    "for i in b1:\n",
    "    b.append(int(i))\n",
    "\n",
    "# Getting sequences for a pair\n",
    "p=[]\n",
    "for i in range(len(a)):\n",
    "    if a[i] == b[i]:\n",
    "        p.append(int(a[i]))\n",
    "    elif a[i]<b[i]:\n",
    "        for j in range(int(a[i]),int(b[i])+1):\n",
    "            p.append(j)\n",
    "    elif a[i]>b[i]:\n",
    "        for k in range(int(b[i]),int(a[i])+1):\n",
    "            p.append(k)\n",
    "    else:\n",
    "        pass\n",
    "\n",
    "\n",
    "#Printing sequence\n",
    "p=set(p)\n",
    "p=list(p)\n",
    "print(p)"
   ]
  },
  {
   "cell_type": "code",
   "execution_count": null,
   "id": "4ff32e32",
   "metadata": {},
   "outputs": [],
   "source": []
  },
  {
   "cell_type": "code",
   "execution_count": 61,
   "id": "355b2c07",
   "metadata": {},
   "outputs": [
    {
     "name": "stdout",
     "output_type": "stream",
     "text": [
      "Initial string is 1-3,5-5,8-10\n",
      "after removing quotes and - == [1, 3, 5, 5, 8, 10]\n",
      "odd list is [1, 5, 8]\n",
      "even list is [3, 5, 10]\n",
      "finally list is [1, 2, 3, 5, 8, 9, 10]\n"
     ]
    }
   ],
   "source": [
    "s='1-3,5-5,8-10'\n",
    "print(f'Initial string is {s}')\n",
    "l2=[]\n",
    "for i in s.split(','):\n",
    "    for j in i.split('-'):\n",
    "        l2.append(int(j))\n",
    "print(f'after removing quotes and - == {l2}')\n",
    "\n",
    "even=[]\n",
    "odd=[]\n",
    "odd.append(l2[0])\n",
    "for i in range(1,len(l2)):\n",
    "    if i%2!=0:\n",
    "        even.append(l2[i])\n",
    "    else:\n",
    "        odd.append(l2[i])\n",
    "print(f'odd list is {odd}')\n",
    "print(f'even list is {even}')\n",
    "p=[]\n",
    "for i in range(len(odd)):\n",
    "    if even[i] == odd[i]:\n",
    "        p.append((odd[i]))\n",
    "    elif even[i]<odd[i]:\n",
    "        for j in range((even[i]),(odd[i])+1):\n",
    "            p.append(j)\n",
    "    elif even[i]>odd[i]:\n",
    "        for k in range((odd[i]),(even[i])+1):\n",
    "            p.append(k)\n",
    "    else:\n",
    "        pass\n",
    "\n",
    "p=list(set(p))\n",
    "print(f'finally list is {p}')"
   ]
  },
  {
   "cell_type": "code",
   "execution_count": null,
   "id": "7d8642f6",
   "metadata": {},
   "outputs": [],
   "source": []
  },
  {
   "cell_type": "code",
   "execution_count": null,
   "id": "26c594c6",
   "metadata": {},
   "outputs": [],
   "source": []
  }
 ],
 "metadata": {
  "kernelspec": {
   "display_name": "Python 3",
   "language": "python",
   "name": "python3"
  },
  "language_info": {
   "codemirror_mode": {
    "name": "ipython",
    "version": 3
   },
   "file_extension": ".py",
   "mimetype": "text/x-python",
   "name": "python",
   "nbconvert_exporter": "python",
   "pygments_lexer": "ipython3",
   "version": "3.8.8"
  }
 },
 "nbformat": 4,
 "nbformat_minor": 5
}
