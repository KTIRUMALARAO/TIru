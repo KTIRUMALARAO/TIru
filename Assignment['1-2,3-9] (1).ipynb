{
 "cells": [
  {
   "cell_type": "code",
   "execution_count": null,
   "id": "7b922c93",
   "metadata": {},
   "outputs": [],
   "source": [
    "def string(s):\n",
    "    l=[]\n",
    "    for i in s.split(','):\n",
    "        for j in i.split('-'):\n",
    "            l.append(int(j))\n",
    "            \n",
    "    print(l)\n",
    "    \n",
    "    # Even and Odd list \n",
    "    even=[]\n",
    "    odd=[]\n",
    "    odd.append(l[0])\n",
    "    for i in range(1,len(l)):\n",
    "        \n",
    "        if i%2!=0:\n",
    "            even.append(l[i])\n",
    "        else:\n",
    "            odd.append(l[i])\n",
    "    print('even list is {}'.format(even))\n",
    "    print('odd list is {}'.format(odd))\n",
    "    \n",
    "    # Printing sequence of each pair\n",
    "    li=[]\n",
    "    for i in range(len(odd)):\n",
    "        if odd[i]==even[i]:\n",
    "            li.append(odd(i))\n",
    "        elif odd[i]<even[i] :\n",
    "            for j in range(odd[i],(even[i])+1):\n",
    "                li.append(j)\n",
    "        else :\n",
    "            for j in range(even[i],odd[i]+1):\n",
    "                li.append(j)\n",
    "#     print(li)\n",
    "#     print(min(li))\n",
    "#     print(max(li))\n",
    "    #printing Sorted sequence\n",
    "    a= [i for i in range(min(li),max(li)+1)]\n",
    "    print(\"sorted sequence is {}\".format(a))  "
   ]
  }
 ],
 "metadata": {
  "kernelspec": {
   "display_name": "Python 3",
   "language": "python",
   "name": "python3"
  },
  "language_info": {
   "codemirror_mode": {
    "name": "ipython",
    "version": 3
   },
   "file_extension": ".py",
   "mimetype": "text/x-python",
   "name": "python",
   "nbconvert_exporter": "python",
   "pygments_lexer": "ipython3",
   "version": "3.8.8"
  }
 },
 "nbformat": 4,
 "nbformat_minor": 5
}
